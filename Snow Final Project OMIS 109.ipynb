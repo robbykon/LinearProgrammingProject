{
 "cells": [
  {
   "cell_type": "markdown",
   "metadata": {},
   "source": [
    "# Snow LP Project"
   ]
  },
  {
   "cell_type": "markdown",
   "metadata": {},
   "source": [
    " Import gurobi for lp"
   ]
  },
  {
   "cell_type": "code",
   "execution_count": 1,
   "metadata": {},
   "outputs": [],
   "source": [
    "from gurobipy import *"
   ]
  },
  {
   "cell_type": "code",
   "execution_count": 2,
   "metadata": {},
   "outputs": [
    {
     "name": "stdout",
     "output_type": "stream",
     "text": [
      "Academic license - for non-commercial use only\n"
     ]
    }
   ],
   "source": [
    "m = Model()"
   ]
  },
  {
   "cell_type": "markdown",
   "metadata": {},
   "source": [
    "Set up lists and dictionaries for storing values"
   ]
  },
  {
   "cell_type": "code",
   "execution_count": 3,
   "metadata": {},
   "outputs": [],
   "source": [
    "costs = {(1,1):3.4, (1,2):1.4, (1,3):4.9, (1,4):7.4, (1,5):9.3,\n",
    "        (2,1):2.4, (2,2):2.1, (2,3):8.3, (2,4):9.1, (2,5):8.8,\n",
    "        (3,1):1.4, (3,2):2.9, (3,3):3.7, (3,4):9.4, (3,5):8.6,\n",
    "        (4,1):2.6, (4,2):3.6, (4,3):4.5, (4,4):8.2, (4,5):8.9, \n",
    "        (5,1):1.5, (5,2):3.1, (5,3):2.1, (5,4):7.9, (5,5):8.8,\n",
    "        (6,1):4.2, (6,2):4.9, (6,3):6.5, (6,4):7.7, (6,5):6.1,\n",
    "        (7,1):4.8, (7,2):6.2, (7,3):9.9, (7,4):6.2, (7,5):5.7,\n",
    "        (8,1):5.4, (8,2):6.0, (8,3):5.2, (8,4):7.6, (8,5):4.9,\n",
    "        (9,1):3.1, (9,2):4.1, (9,3):6.6, (9,4):7.5, (9,5):7.2,\n",
    "        (10,1):3.2, (10,2):6.5, (10,3):7.1, (10,4):6.0, (10,5):8.3}\n",
    "    "
   ]
  },
  {
   "cell_type": "code",
   "execution_count": 4,
   "metadata": {},
   "outputs": [],
   "source": [
    "snow = {1:153,2:152,3:154,4:138,5:127,6:129,7:111,8:110,9:130,10:135}\n",
    "capacity = {1:350,2:250,3:500,4:400,5:200}"
   ]
  },
  {
   "cell_type": "code",
   "execution_count": 5,
   "metadata": {},
   "outputs": [
    {
     "name": "stdout",
     "output_type": "stream",
     "text": [
      "arcs = [(1, 1), (1, 2), (1, 3), (1, 4), (1, 5), (2, 1), (2, 2), (2, 3), (2, 4), (2, 5), (3, 1), (3, 2), (3, 3), (3, 4), (3, 5), (4, 1), (4, 2), (4, 3), (4, 4), (4, 5), (5, 1), (5, 2), (5, 3), (5, 4), (5, 5), (6, 1), (6, 2), (6, 3), (6, 4), (6, 5), (7, 1), (7, 2), (7, 3), (7, 4), (7, 5), (8, 1), (8, 2), (8, 3), (8, 4), (8, 5), (9, 1), (9, 2), (9, 3), (9, 4), (9, 5), (10, 1), (10, 2), (10, 3), (10, 4), (10, 5)]\n"
     ]
    }
   ],
   "source": [
    "arcs=[]\n",
    "for i in range(1,11):\n",
    "    for j in range(1,6):\n",
    "        arcs.append((i,j))\n",
    "print('arcs = ' + str(arcs))"
   ]
  },
  {
   "cell_type": "code",
   "execution_count": 6,
   "metadata": {},
   "outputs": [
    {
     "name": "stdout",
     "output_type": "stream",
     "text": [
      "sectors = {1: [(1, 1), (1, 2), (1, 3), (1, 4), (1, 5)], 2: [(2, 1), (2, 2), (2, 3), (2, 4), (2, 5)], 3: [(3, 1), (3, 2), (3, 3), (3, 4), (3, 5)], 4: [(4, 1), (4, 2), (4, 3), (4, 4), (4, 5)], 5: [(5, 1), (5, 2), (5, 3), (5, 4), (5, 5)], 6: [(6, 1), (6, 2), (6, 3), (6, 4), (6, 5)], 7: [(7, 1), (7, 2), (7, 3), (7, 4), (7, 5)], 8: [(8, 1), (8, 2), (8, 3), (8, 4), (8, 5)], 9: [(9, 1), (9, 2), (9, 3), (9, 4), (9, 5)], 10: [(10, 1), (10, 2), (10, 3), (10, 4), (10, 5)]}\n"
     ]
    }
   ],
   "source": [
    "sectors = {}\n",
    "for i in range(1,11):\n",
    "        sectors[i] = [(i,j) for j in range(1,6)]\n",
    "print('sectors = '+str(sectors))"
   ]
  },
  {
   "cell_type": "code",
   "execution_count": 7,
   "metadata": {},
   "outputs": [
    {
     "name": "stdout",
     "output_type": "stream",
     "text": [
      "sites = {1: [(1, 1), (2, 1), (3, 1), (4, 1), (5, 1), (6, 1), (7, 1), (8, 1), (9, 1), (10, 1)], 2: [(1, 2), (2, 2), (3, 2), (4, 2), (5, 2), (6, 2), (7, 2), (8, 2), (9, 2), (10, 2)], 3: [(1, 3), (2, 3), (3, 3), (4, 3), (5, 3), (6, 3), (7, 3), (8, 3), (9, 3), (10, 3)], 4: [(1, 4), (2, 4), (3, 4), (4, 4), (5, 4), (6, 4), (7, 4), (8, 4), (9, 4), (10, 4)], 5: [(1, 5), (2, 5), (3, 5), (4, 5), (5, 5), (6, 5), (7, 5), (8, 5), (9, 5), (10, 5)]}\n"
     ]
    }
   ],
   "source": [
    "sites = {}\n",
    "for i in range(1,6):\n",
    "    sites[i] = [(j,i) for j in range(1,11)]\n",
    "print('sites = '+str(sites))"
   ]
  },
  {
   "cell_type": "code",
   "execution_count": 8,
   "metadata": {},
   "outputs": [],
   "source": [
    "x = {}"
   ]
  },
  {
   "cell_type": "markdown",
   "metadata": {},
   "source": [
    "Add 50 decision variables "
   ]
  },
  {
   "cell_type": "code",
   "execution_count": 9,
   "metadata": {},
   "outputs": [],
   "source": [
    "for arc in arcs:\n",
    "    x[arc] = m.addVar(vtype = GRB.BINARY, name = 'x' + str(arc))"
   ]
  },
  {
   "cell_type": "markdown",
   "metadata": {},
   "source": [
    "Set objective function"
   ]
  },
  {
   "cell_type": "code",
   "execution_count": 10,
   "metadata": {},
   "outputs": [
    {
     "name": "stdout",
     "output_type": "stream",
     "text": [
      "0\n"
     ]
    }
   ],
   "source": [
    "#m.setObjective(1000*.1*(quicksum(snow[n]*quicksum((x[sectors[n][i]]*costs[x[sectors[n][i]]] for i in range(5))))for n in range(1,11)))\n",
    "#m.setObjective(quicksum(snow[s]*quicksum(x[sectors[sector][sector-1]]*costs[x[sectors[sector][sectors-1]]] for sector in sectors) for s in snow))\n",
    "o = 0\n",
    "#quicksum(x[sectors[1][i]]*costs[sectors[1][i]] for i in range(5))*snow[1]\n",
    "print(o)\n",
    "for s in snow:\n",
    "    o += quicksum(x[sectors[s][i]]*costs[sectors[s][i]] for i in range(5))*snow[s]\n",
    "m.setObjective(o*1000*.1, GRB.MINIMIZE)"
   ]
  },
  {
   "cell_type": "markdown",
   "metadata": {},
   "source": [
    "Constraint for binary relationship"
   ]
  },
  {
   "cell_type": "code",
   "execution_count": 11,
   "metadata": {},
   "outputs": [],
   "source": [
    "for sector in sectors:\n",
    "    m.addConstr(quicksum(x[sectors[sector][i]] for i in range(5))==1, name = \"Site %s constraint\" %sector)"
   ]
  },
  {
   "cell_type": "code",
   "execution_count": 12,
   "metadata": {},
   "outputs": [],
   "source": [
    "m.update()"
   ]
  },
  {
   "cell_type": "markdown",
   "metadata": {},
   "source": [
    "Constraint for capacity"
   ]
  },
  {
   "cell_type": "code",
   "execution_count": 13,
   "metadata": {},
   "outputs": [],
   "source": [
    "for site in sites:\n",
    "    m.addConstr(quicksum(x[sites[(site)][i]]*snow[i+1] for i in range(10)) <= capacity[(site)], name = \"Capacity for Site %s\" %site)"
   ]
  },
  {
   "cell_type": "code",
   "execution_count": 14,
   "metadata": {},
   "outputs": [],
   "source": [
    "m.update()"
   ]
  },
  {
   "cell_type": "markdown",
   "metadata": {},
   "source": [
    "Get the optimal solution"
   ]
  },
  {
   "cell_type": "code",
   "execution_count": 15,
   "metadata": {},
   "outputs": [
    {
     "name": "stdout",
     "output_type": "stream",
     "text": [
      "Optimize a model with 15 rows, 50 columns and 100 nonzeros\n",
      "Variable types: 0 continuous, 50 integer (50 binary)\n",
      "Coefficient statistics:\n",
      "  Matrix range     [1e+00, 2e+02]\n",
      "  Objective range  [2e+04, 1e+05]\n",
      "  Bounds range     [1e+00, 1e+00]\n",
      "  RHS range        [1e+00, 5e+02]\n",
      "Found heuristic solution: objective 707880.00000\n",
      "Presolve time: 0.00s\n",
      "Presolved: 15 rows, 50 columns, 100 nonzeros\n",
      "Variable types: 0 continuous, 50 integer (50 binary)\n",
      "\n",
      "Root relaxation: objective 5.198918e+05, 18 iterations, 0.00 seconds\n",
      "\n",
      "    Nodes    |    Current Node    |     Objective Bounds      |     Work\n",
      " Expl Unexpl |  Obj  Depth IntInf | Incumbent    BestBd   Gap | It/Node Time\n",
      "\n",
      "     0     0 519891.818    0    4 707880.000 519891.818  26.6%     -    0s\n",
      "H    0     0                    580720.00000 519891.818  10.5%     -    0s\n",
      "     0     0 540747.706    0    7 580720.000 540747.706  6.88%     -    0s\n",
      "H    0     0                    569590.00000 540747.706  5.06%     -    0s\n",
      "     0     0 546528.434    0    6 569590.000 546528.434  4.05%     -    0s\n",
      "*    0     0               0    547000.00000 547000.000  0.00%     -    0s\n",
      "\n",
      "Cutting planes:\n",
      "  Gomory: 3\n",
      "  Cover: 2\n",
      "  MIR: 1\n",
      "  StrongCG: 1\n",
      "\n",
      "Explored 1 nodes (29 simplex iterations) in 0.03 seconds\n",
      "Thread count was 4 (of 4 available processors)\n",
      "\n",
      "Solution count 4: 547000 569590 580720 707880 \n",
      "\n",
      "Optimal solution found (tolerance 1.00e-04)\n",
      "Best objective 5.470000000000e+05, best bound 5.470000000000e+05, gap 0.0000%\n"
     ]
    }
   ],
   "source": [
    "m.optimize()"
   ]
  },
  {
   "cell_type": "markdown",
   "metadata": {},
   "source": [
    "Get variables and correct desicion choices"
   ]
  },
  {
   "cell_type": "code",
   "execution_count": 16,
   "metadata": {},
   "outputs": [
    {
     "name": "stdout",
     "output_type": "stream",
     "text": [
      "\n",
      "    Variable            X \n",
      "-------------------------\n",
      "     x(1, 2)            1 \n",
      "     x(2, 1)            1 \n",
      "     x(3, 3)            1 \n",
      "     x(4, 3)            1 \n",
      "     x(5, 3)            1 \n",
      "     x(6, 4)            1 \n",
      "     x(7, 4)            1 \n",
      "     x(8, 5)            1 \n",
      "     x(9, 1)            1 \n",
      "    x(10, 4)            1 \n"
     ]
    }
   ],
   "source": [
    "m.printAttr('X')"
   ]
  },
  {
   "cell_type": "code",
   "execution_count": 17,
   "metadata": {},
   "outputs": [
    {
     "name": "stdout",
     "output_type": "stream",
     "text": [
      "Warning: variable name \"x(1, 1)\" has a space\n",
      "Warning: constraint name \"Site 1 constraint\" has a space\n",
      "Warning: to let Gurobi read it back, use rlp format\n"
     ]
    }
   ],
   "source": [
    "m.write(\"FinalProject.lp\")"
   ]
  },
  {
   "cell_type": "code",
   "execution_count": null,
   "metadata": {},
   "outputs": [],
   "source": []
  }
 ],
 "metadata": {
  "kernelspec": {
   "display_name": "Python 3",
   "language": "python",
   "name": "python3"
  },
  "language_info": {
   "codemirror_mode": {
    "name": "ipython",
    "version": 3
   },
   "file_extension": ".py",
   "mimetype": "text/x-python",
   "name": "python",
   "nbconvert_exporter": "python",
   "pygments_lexer": "ipython3",
   "version": "3.7.1"
  }
 },
 "nbformat": 4,
 "nbformat_minor": 2
}
